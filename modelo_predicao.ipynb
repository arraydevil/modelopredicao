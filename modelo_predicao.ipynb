{
  "nbformat": 4,
  "nbformat_minor": 0,
  "metadata": {
    "colab": {
      "provenance": [],
      "include_colab_link": true
    },
    "kernelspec": {
      "name": "python3",
      "display_name": "Python 3"
    },
    "language_info": {
      "name": "python"
    }
  },
  "cells": [
    {
      "cell_type": "markdown",
      "metadata": {
        "id": "view-in-github",
        "colab_type": "text"
      },
      "source": [
        "<a href=\"https://colab.research.google.com/github/arraydevil/modelopredicao/blob/main/modelo_predicao.ipynb\" target=\"_parent\"><img src=\"https://colab.research.google.com/assets/colab-badge.svg\" alt=\"Open In Colab\"/></a>"
      ]
    },
    {
      "cell_type": "markdown",
      "source": [
        "# Ciência de Dados na Saúde: Criando Modelos para Predição do Câncer\n",
        "\n",
        "Estudos do Curso EBAC de Modelos para Predição de Câncer/Saúde.\n"
      ],
      "metadata": {
        "id": "kjKRSsWb9s3p"
      }
    },
    {
      "cell_type": "markdown",
      "source": [
        "## # Case: Classificação de Câncer por meio de microRNA"
      ],
      "metadata": {
        "id": "vJBH-Hwjcrah"
      }
    },
    {
      "cell_type": "markdown",
      "source": [
        "**Descrição dos Dados:** Os dados foram coletados do [The Cancer Genome Atlas]() (TCGA), que é um programa internacional e de referência mundial de caracterização de mais de 33 tipos de câncer. Os dados são reais e foram devidamente anonimizados. Cada linha representa a amostra retirada de uma pessoa. As colunas são os tipos de microRNA e cada entrada representa a intensidade com que aquele microRNA está expresso. Os valores de expressão variam entre $[0, \\infty]$. Valores próximos a zero indicam pouca expressão enquanto que o contrário indica uma alta expressão. Os dados também apresentam rótulos (veja o atributo class) sendo TP (primary solid tumor) indicando tumor e NT (normal tissue).\n",
        "\n",
        "\n",
        "**Objetivo:** Construir um modelo para predizer quando uma pessoa tem câncer dado um exame de sequenciamento do RNA."
      ],
      "metadata": {
        "id": "4H73tAiIeHoY"
      }
    },
    {
      "cell_type": "markdown",
      "source": [
        "## Leitura dos Dados"
      ],
      "metadata": {
        "id": "8_BWys_jdE_v"
      }
    },
    {
      "cell_type": "code",
      "source": [
        "import pandas as pd #manipulação de dados\n",
        "import numpy as np #manipulação númerica\n",
        "import seaborn as sns\n",
        "import matplotlib.pyplot as plt #gráficos\n",
        "\n",
        "from sklearn.model_selection import train_test_split #div de dados\n",
        "from sklearn.linear_model import LogisticRegression #modelo de classificação\n",
        "from sklearn.metrics import balanced_accuracy_score\n",
        "from sklearn.model_selection import cross_val_score\n",
        "from sklearn.pipeline import Pipeline\n",
        "from sklearn.preprocessing import StandardScaler\n",
        "from sklearn.neighbors import KNeighborsClassifier\n",
        "from sklearn.preprocessing import MinMaxScaler\n",
        "from sklearn.feature_selection import SelectKBest\n",
        "from sklearn.feature_selection import chi2\n",
        "from sklearn.decomposition import PCA\n",
        "\n"
      ],
      "metadata": {
        "id": "m0fJuzemhi7t"
      },
      "execution_count": null,
      "outputs": []
    },
    {
      "cell_type": "code",
      "source": [
        "df = pd.read_csv(\"brca_mirnaseq(1).csv\", sep=',',header=0, decimal=',')"
      ],
      "metadata": {
        "id": "ki3_luTFmQDn"
      },
      "execution_count": null,
      "outputs": []
    },
    {
      "cell_type": "code",
      "source": [
        "df.shape"
      ],
      "metadata": {
        "id": "xtG3RN1LT_xv"
      },
      "execution_count": null,
      "outputs": []
    },
    {
      "cell_type": "markdown",
      "source": [
        "## Análise Exploratória dos Dados"
      ],
      "metadata": {
        "id": "R-3MzuzpdXPG"
      }
    },
    {
      "cell_type": "code",
      "source": [
        "ax = sns.countplot(x=\"class\",data=df)"
      ],
      "metadata": {
        "id": "zasmZRzyddbq"
      },
      "execution_count": null,
      "outputs": []
    },
    {
      "cell_type": "code",
      "source": [
        "df[\"class\"].value_counts()"
      ],
      "metadata": {
        "id": "AGqvfRIgmPJG"
      },
      "execution_count": null,
      "outputs": []
    },
    {
      "cell_type": "code",
      "source": [
        "df[\"class\"].value_counts(normalize=True)"
      ],
      "metadata": {
        "id": "MudP9wyJnMiX"
      },
      "execution_count": null,
      "outputs": []
    },
    {
      "cell_type": "code",
      "source": [
        "df.describe()"
      ],
      "metadata": {
        "id": "BFObjpRUpLG7"
      },
      "execution_count": null,
      "outputs": []
    },
    {
      "cell_type": "markdown",
      "source": [
        "## Estabelecendo um Baseline Comparativo\n",
        "\n",
        "Antes de qualque modelagem vamos estabelecer um baseline, i.e., uma solução simples para o problema."
      ],
      "metadata": {
        "id": "5Dn-9490do7Q"
      }
    },
    {
      "cell_type": "code",
      "source": [
        "x = df.drop(\"class\", axis=1)\n",
        "y = df[\"class\"]\n",
        "X_train, X_test, y_train, y_test = train_test_split(x, y, test_size=0.30, stratify=y, random_state=42)"
      ],
      "metadata": {
        "id": "PYnwDvX_xUOO"
      },
      "execution_count": null,
      "outputs": []
    },
    {
      "cell_type": "code",
      "source": [
        "y_train.value_counts(normalize=True)"
      ],
      "metadata": {
        "id": "QrAMmLCJx8xS"
      },
      "execution_count": null,
      "outputs": []
    },
    {
      "cell_type": "code",
      "source": [
        "y_test.value_counts(normalize=True)"
      ],
      "metadata": {
        "id": "D9-BJRzdyIXA"
      },
      "execution_count": null,
      "outputs": []
    },
    {
      "cell_type": "code",
      "source": [
        "lrc = LogisticRegression(random_state=42)\n",
        "\n",
        "cv_list_lr_baseline = cross_val_score(\n",
        "    lrc, X_train, y_train, cv=10, scoring=\"balanced_accuracy\"\n",
        ")"
      ],
      "metadata": {
        "id": "JScz8TB5xHyI"
      },
      "execution_count": null,
      "outputs": []
    },
    {
      "cell_type": "code",
      "source": [
        "mean_cv_baseline = np.mean(cv_list_lr_baseline)\n",
        "std_cv_lr_baseline = np.std(cv_list_lr_baseline)\n",
        "\n",
        "print(f\"Performance (bac): {round(mean_cv_lr_baseline, 4)} +- {round(std_cv_lr_baseline, 4)}\")"
      ],
      "metadata": {
        "id": "OSuNhAcX3aVG"
      },
      "execution_count": null,
      "outputs": []
    },
    {
      "cell_type": "markdown",
      "source": [
        "## Modelagem"
      ],
      "metadata": {
        "id": "xL43SL9wdx4p"
      }
    },
    {
      "cell_type": "code",
      "source": [
        "knn = Pipeline(\n",
        "    {\n",
        "        ('mms', MinMaxScaler()),\n",
        "        ('skb', SelectKBest(chi2, k=10)),\n",
        "        ('knn', KNeighborsClassifier(\n",
        "            n_neighbors=5,\n",
        "            p=2,\n",
        "            weights='uniforme',\n",
        "        ))\n",
        "    }\n",
        ")\n",
        "\n",
        "cv_list_knn_euclid = cross_val_score(\n",
        "    knn,\n",
        "    X_train,\n",
        "    y_train,\n",
        "    cv=10,\n",
        "    scoring=\"balanced_accuracy\"\n",
        ")\n",
        "\n",
        "mean_cv_knn_euclid = np.mean(cv_list_knn_euclid)\n",
        "std_cv_knn_euclid = np.std(cv_list_lr_baseline)\n",
        "\n",
        "print(f\"Performance (bac): {round(mean_cv_knn_euclid, 4)} +- {round(std_cv_knn_euclid, 4)}\")"
      ],
      "metadata": {
        "id": "OjhBAMI-0af4"
      },
      "execution_count": null,
      "outputs": []
    },
    {
      "cell_type": "code",
      "source": [
        "lr = Pipeline(\n",
        "    [\n",
        "        ('scaler', StandardScaler()),\n",
        "        ('lr', LogisticRegression(\n",
        "            penalty=\"l1\",\n",
        "            C=1,\n",
        "            fit_intercept=True,\n",
        "            class_weight=\"balanced\"\n",
        "            solver= \"liblinear\",\n",
        "            random_state=42\n",
        "        )\n",
        "        )\n",
        "    ])\n",
        "\n",
        "cv_list_lr_l1 = cross_val_score(\n",
        "    lr,\n",
        "    X_train,\n",
        "    y_train,\n",
        "    cv=10,\n",
        "    scoring=\"balanced_accuracy\"\n",
        ")\n",
        "mean_cv_lr_l1 = np.mean(cv_list_lr_l1)\n",
        "std_cv_lr_l1 = np.std(cv_list_lr_l1)\n",
        "\n",
        "print(f\"Performance (bac): {round(mean_cv_lr_l1, 4)} +- {round(std_cv_lr_l1, 4)}\")"
      ],
      "metadata": {
        "id": "cNIS3bNaap3x"
      },
      "execution_count": null,
      "outputs": []
    },
    {
      "cell_type": "code",
      "source": [
        "lr = Pipeline(\n",
        "    [\n",
        "        ('scaler', StandardScaler()),\n",
        "        ('pca', PCA(n_components=10))\n",
        "        ('lr', LogisticRegression(\n",
        "            penalty=\"l2\",\n",
        "            C=1,\n",
        "            fit_intercept=True,\n",
        "            class_weight=\"balanced\"\n",
        "            solver= \"liblinear\",\n",
        "            random_state=42\n",
        "        )\n",
        "        )\n",
        "    ])\n",
        "\n",
        "cv_list_lr_pca = cross_val_score(\n",
        "    lr,\n",
        "    X_train,\n",
        "    y_train,\n",
        "    cv=10,\n",
        "    scoring=\"balanced_accuracy\"\n",
        ")\n",
        "mean_cv_lr_pca = np.mean(cv_list_lr_pca)\n",
        "std_cv_lr_pca = np.std(cv_list_lr_pca)\n"
      ],
      "metadata": {
        "id": "F_9FJ_Qa3EuV"
      },
      "execution_count": null,
      "outputs": []
    },
    {
      "cell_type": "markdown",
      "source": [
        "## Avaliação Experimental"
      ],
      "metadata": {
        "id": "LD1Qsbt8d3VN"
      }
    },
    {
      "cell_type": "code",
      "source": [
        "# resultados da cross-validacao\n",
        "df_result_cv = pd.DataFrame(\n",
        "    [cv_list_lr_baseline, cv_list_knn_euclid, cv_list_lr_l1, cv_list_lr_pca],\n",
        "    index=[\"baseline\", \"kNN_euclid\", \"kNN_man\" \"LR-L2\", \"LR-L1\", \"LR-PCA\"]\n",
        ").T\n",
        "df_result_cv\n"
      ],
      "metadata": {
        "id": "04m6J0Ik7I0O"
      },
      "execution_count": null,
      "outputs": []
    },
    {
      "cell_type": "code",
      "source": [
        "df_res = df_result_cv.stack().to_frame(\"balanced_accuracy\")\n",
        "df_res.index.rename([\"fold\", \"pipelines\"], inplace=True)\n",
        "df_res = df_res.reset_index()\n",
        "df_res.head(12)"
      ],
      "metadata": {
        "id": "Zihz06QXGL5s"
      },
      "execution_count": null,
      "outputs": []
    },
    {
      "cell_type": "code",
      "source": [
        "plt.figure(figsize=(10,10))\n",
        "ax = sns.boxplot(x=\"pipelines\",y=\"balanced_accuracy\", data=df_res)\n",
        "ax = sns.stripplot(x=\"pipelines\", y=\"balanced_accuracy\", data=df_res, color=\".40\")"
      ],
      "metadata": {
        "id": "OcwnFU2jITF8"
      },
      "execution_count": null,
      "outputs": []
    },
    {
      "cell_type": "code",
      "source": [
        "lr = Pipeline(\n",
        "    [\n",
        "        ('scaler', StandardScaler()),\n",
        "        ('pca', PCA(n_components=10))\n",
        "        ('lr', LogisticRegression(\n",
        "            penalty=\"l2\",\n",
        "            C=1,\n",
        "            fit_intercept=True,\n",
        "            class_weight=\"balanced\"\n",
        "            solver= \"liblinear\",\n",
        "            random_state=42\n",
        "        )\n",
        "        )\n",
        "    ])\n",
        "lr.fit(X_train, y_train)\n",
        "y_pred = lr.predict(X_test)\n",
        "lr_pca_test = balanced_accuracy_score(y_test, y_pred)\n",
        "\n",
        "print(\"Performance: \", round(lr_pca_test, 4))"
      ],
      "metadata": {
        "id": "G0BW5wyG-58r"
      },
      "execution_count": null,
      "outputs": []
    },
    {
      "cell_type": "code",
      "source": [
        "from sklearn.metrics import ConfusionMatrixDisplay\n",
        "ConfusionMatrixDisplay.from_estimator(lr, X-test, y_test)\n",
        "plt.show()"
      ],
      "metadata": {
        "id": "CNUu_qpM_-hn"
      },
      "execution_count": null,
      "outputs": []
    },
    {
      "cell_type": "code",
      "source": [
        "ConfusionMatrixDisplay.from_estimator(lr, X_test, y_test, normalize='true')\n",
        "plt.show()"
      ],
      "metadata": {
        "id": "xloyc1xfC4BX"
      },
      "execution_count": null,
      "outputs": []
    },
    {
      "cell_type": "markdown",
      "source": [
        "## Referências & Links\n",
        "\n"
      ],
      "metadata": {
        "id": "fI2rqDRgD50s"
      }
    },
    {
      "cell_type": "markdown",
      "source": [
        "1. [The Cancer Genome Atlas Program](https://www.cancer.gov/about-nci/organization/ccg/research/structural-genomics/tcga)\n",
        "2. [Micro RNA](https://en.wikipedia.org/wiki/MicroRNA_sequencing)\n",
        "3. [Sklearn Pipeline](https://scikit-learn.org/stable/modules/generated/sklearn.pipeline.Pipeline.html)\n"
      ],
      "metadata": {
        "id": "Z3Gx27YFEo6c"
      }
    }
  ]
}